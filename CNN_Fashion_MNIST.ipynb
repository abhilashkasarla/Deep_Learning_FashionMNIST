{
 "cells": [
  {
   "cell_type": "code",
   "execution_count": 1,
   "metadata": {},
   "outputs": [],
   "source": [
    "from __future__ import print_function\n",
    "import numpy as np\n",
    "import torch\n",
    "import torch.autograd as ag\n",
    "import mnist_reader\n",
    "import MNISTtools\n",
    "import matplotlib.pyplot as plt\n",
    "import time"
   ]
  },
  {
   "cell_type": "code",
   "execution_count": 2,
   "metadata": {},
   "outputs": [],
   "source": [
    "xtrain, ltrain = mnist_reader.load_mnist('data/data/fashion', kind='train')\n",
    "xtest, ltest = mnist_reader.load_mnist('data/data/fashion', kind='t10k')\n",
    "xtrain, xtest = xtrain.T, xtest.T"
   ]
  },
  {
   "cell_type": "code",
   "execution_count": 3,
   "metadata": {},
   "outputs": [
    {
     "name": "stdout",
     "output_type": "stream",
     "text": [
      "xtrain shape:  (784, 60000)\n",
      "xtest.shape:  (784, 10000)\n",
      "ltrain.shape:  (60000,)\n"
     ]
    }
   ],
   "source": [
    "print('xtrain shape: ',xtrain.shape)\n",
    "print('xtest.shape: ',xtest.shape)\n",
    "print('ltrain.shape: ',ltrain.shape)"
   ]
  },
  {
   "cell_type": "code",
   "execution_count": 4,
   "metadata": {},
   "outputs": [],
   "source": [
    "def normalize_MNIST_images(x):\n",
    "    x=x.astype(np.float64)\n",
    "    return (x*2/255.0)-1.0\n",
    "    \n",
    "xtrain=normalize_MNIST_images(xtrain)\n",
    "xtest=normalize_MNIST_images(xtest)"
   ]
  },
  {
   "cell_type": "markdown",
   "metadata": {},
   "source": [
    "22."
   ]
  },
  {
   "cell_type": "code",
   "execution_count": 5,
   "metadata": {},
   "outputs": [
    {
     "name": "stdout",
     "output_type": "stream",
     "text": [
      "(60000, 1, 28, 28)\n"
     ]
    }
   ],
   "source": [
    "m,n=xtrain.shape\n",
    "train=xtrain.T.reshape((n, 28, 28))\n",
    "train=train[:,None,:,:]           # to add 1 dimension for channel\n",
    "print(train.shape)\n",
    "# train=np.moveaxis(train,2,-1)     # as it wants width x height"
   ]
  },
  {
   "cell_type": "code",
   "execution_count": 6,
   "metadata": {},
   "outputs": [
    {
     "name": "stdout",
     "output_type": "stream",
     "text": [
      "(10000, 1, 28, 28)\n"
     ]
    }
   ],
   "source": [
    "m,n=xtest.shape\n",
    "test=xtest.T.reshape((n, 28, 28))\n",
    "test=test[:,None,:,:]           # to add 1 dimension for channel\n",
    "print(test.shape)\n",
    "# test=np.moveaxis(test,2,-1)     # as it wants width x height"
   ]
  },
  {
   "cell_type": "markdown",
   "metadata": {},
   "source": [
    "23."
   ]
  },
  {
   "cell_type": "code",
   "execution_count": 7,
   "metadata": {},
   "outputs": [
    {
     "data": {
      "image/png": "[encoded data removed]",
      "text/plain": [
       "<Figure size 432x288 with 1 Axes>"
      ]
     },
     "metadata": {},
     "output_type": "display_data"
    },
    {
     "name": "stdout",
     "output_type": "stream",
     "text": [
      "label is:  9\n"
     ]
    }
   ],
   "source": [
    "MNISTtools.show(train [42 , 0, :, :])\n",
    "print('label is: ',ltrain[42])"
   ]
  },
  {
   "cell_type": "markdown",
   "metadata": {},
   "source": [
    "24."
   ]
  },
  {
   "cell_type": "code",
   "execution_count": 8,
   "metadata": {},
   "outputs": [],
   "source": [
    "xtrain = ag.Variable( torch.from_numpy(train), requires_grad=False)\n",
    "ltrain = ag.Variable( torch.from_numpy(ltrain).long(), requires_grad=False)\n",
    "xtest = ag.Variable( torch.from_numpy(test), requires_grad = False)\n",
    "ltest = ag.Variable( torch.from_numpy(ltest).long(), requires_grad = False)\n",
    "\n",
    "if torch.cuda.is_available():\n",
    "    xtrain = xtrain.cuda()\n",
    "    ltrain = ltrain.cuda()\n",
    "    xtest = xtest.cuda()\n",
    "    ltest = ltest.cuda()"
   ]
  },
  {
   "cell_type": "markdown",
   "metadata": {},
   "source": [
    "# Convolutional Neural Networks (CNN)"
   ]
  },
  {
   "cell_type": "markdown",
   "metadata": {},
   "source": [
    "25."
   ]
  },
  {
   "cell_type": "markdown",
   "metadata": {},
   "source": [
    "(a) output after convolutional layer KxK = 5x5, C=6, ReLu and maxpooling: N x 6 x (28-5+1)/2 x (28-5+1)/2  \n",
    "N x 6 x 12 x 12. Lets ignore N (total images). then it is 6x12x12.\n",
    "\n",
    "(b) output after convolutional layer KxK = 5x5, C=16, ReLu and maxpooling: 16 x (12-5+1)/2 x (12-5+1)/2  \n",
    "16 x 4 x 4      (ignoring N)\n",
    "\n",
    "Third layer has 16x4x4 = 256 input units"
   ]
  },
  {
   "cell_type": "markdown",
   "metadata": {},
   "source": [
    "26."
   ]
  },
  {
   "cell_type": "code",
   "execution_count": 9,
   "metadata": {},
   "outputs": [
    {
     "name": "stdout",
     "output_type": "stream",
     "text": [
      "LeNet(\n",
      "  (conv1): Conv2d(1, 6, kernel_size=(5, 5), stride=(1, 1))\n",
      "  (conv2): Conv2d(6, 16, kernel_size=(5, 5), stride=(1, 1))\n",
      "  (fc1): Linear(in_features=256, out_features=120, bias=True)\n",
      "  (fc2): Linear(in_features=120, out_features=84, bias=True)\n",
      "  (fc3): Linear(in_features=84, out_features=10, bias=True)\n",
      ")\n"
     ]
    }
   ],
   "source": [
    "import torch.nn as nn\n",
    "import torch.nn.functional as F\n",
    "# This is our neural networks class that inherits from nn.Module\n",
    "class LeNet(nn.Module):\n",
    "    # Here we define our network structure\n",
    "    def __init__(self):\n",
    "        super(LeNet , self).__init__()\n",
    "        self.conv1 = nn.Conv2d(1, 6, 5).double()\n",
    "        self.conv2 = nn.Conv2d(6, 16, 5).double()\n",
    "        self.fc1 = nn.Linear(256 , 120).double()\n",
    "        self.fc2 = nn.Linear(120 , 84).double()\n",
    "        self.fc3 = nn.Linear(84 , 10).double()\n",
    "        \n",
    "    # Here we define one forward pass through the network\n",
    "    def forward(self , x):\n",
    "        x = F.max_pool2d(F.relu(self.conv1(x)),(2, 2))\n",
    "        x = F.max_pool2d(F.relu(self.conv2(x)),(2, 2))\n",
    "        x = x.view(-1, self.num_flat_features(x))\n",
    "        x = F.relu(self.fc1(x))\n",
    "        x = F.relu(self.fc2(x))\n",
    "        x = self.fc3(x)\n",
    "        return x\n",
    "    \n",
    "    # Determine the number of features in a batch of tensors\n",
    "    def num_flat_features(self , x):\n",
    "        size = x.size()[1:]\n",
    "        return np.prod(size)\n",
    "\n",
    "if torch.cuda.is_available():\n",
    "    net = LeNet().cuda()\n",
    "else:\n",
    "    net = LeNet()\n",
    "print(net)"
   ]
  },
  {
   "cell_type": "markdown",
   "metadata": {},
   "source": [
    "27."
   ]
  },
  {
   "cell_type": "code",
   "execution_count": 10,
   "metadata": {},
   "outputs": [],
   "source": [
    "# params = list(net.parameters())\n",
    "# for i in range(len(params)):       # prints out weights and biases for each layer\n",
    "#     print(i, params[i].size())"
   ]
  },
  {
   "cell_type": "markdown",
   "metadata": {},
   "source": [
    "28."
   ]
  },
  {
   "cell_type": "code",
   "execution_count": 11,
   "metadata": {},
   "outputs": [],
   "source": [
    "def performance(pred, labels):\n",
    "    return (100 * np.mean(labels == pred.data.numpy().T.argmax(axis=0)))\n",
    "\n",
    "def performance_using_gpu(pred, labels):\n",
    "    max_index = pred.max(dim = 1)[1]\n",
    "    acc = (max_index==labels).float().sum()/max_index.size()[0]\n",
    "    return 100*acc.cpu().data.numpy()[0]"
   ]
  },
  {
   "cell_type": "code",
   "execution_count": 12,
   "metadata": {},
   "outputs": [
    {
     "name": "stdout",
     "output_type": "stream",
     "text": [
      "17.430000007152557\n"
     ]
    }
   ],
   "source": [
    "yinit = net(xtest)\n",
    "# if torch.cuda.is_available():\n",
    "#     yinit = yinit.cpu()\n",
    "#     labels = ltest.cpu().data.numpy()\n",
    "print(performance_using_gpu(yinit, ltest))"
   ]
  },
  {
   "cell_type": "code",
   "execution_count": 13,
   "metadata": {},
   "outputs": [],
   "source": [
    "# print(yinit[0])\n",
    "# print(ltest[0])"
   ]
  },
  {
   "cell_type": "markdown",
   "metadata": {},
   "source": [
    "29."
   ]
  },
  {
   "cell_type": "code",
   "execution_count": 14,
   "metadata": {},
   "outputs": [],
   "source": [
    "N = xtrain.size()[0] # Training set size\n",
    "B = 100 # Minibacth size\n",
    "NB = int(np.ceil(N/B)) # Number of minibatches\n",
    "T = 10 # Number of epochs\n",
    "gamma = .001 # learning rate\n",
    "rho = .9 # momentum\n",
    "criterion = nn.CrossEntropyLoss()\n",
    "optimizer = torch.optim.SGD(net.parameters(), lr = gamma , momentum = rho )\n",
    "# PyTorch’s CrossEntropyLoss is the composition of a softmax activation with the standard cross-entropy loss."
   ]
  },
  {
   "cell_type": "markdown",
   "metadata": {},
   "source": [
    "30."
   ]
  },
  {
   "cell_type": "code",
   "execution_count": 15,
   "metadata": {
    "scrolled": true
   },
   "outputs": [],
   "source": [
    "# if torch.cuda.is_available():\n",
    "#     ltrain=ltrain.cpu()\n",
    "def train_net(net, xtrain, ltrain, T=10, validation=False):\n",
    "    start=time.time()\n",
    "    N = xtrain.size()[0] # Training set size\n",
    "    #B = 100 # Minibacth size\n",
    "    cv_acc, test_acc = [],[]\n",
    "    cv_losses, test_losses = [],[]\n",
    "    train_losses=[]\n",
    "    if validation:\n",
    "        idx=np.arange(N)\n",
    "        np.random.shuffle(idx)\n",
    "        cv_xtrain=xtrain[idx[0:int(0.1*N)]]\n",
    "        cv_ltrain=ltrain[idx[0:int(0.1*N)]]\n",
    "        xtrain=xtrain[idx[int(0.1*N):N]]\n",
    "        ltrain=ltrain[idx[int(0.1*N):N]]\n",
    "        # print('xtrain: ',len(xtrain))\n",
    "        # print('ltrain: ',len(cv_ltrain))\n",
    "        N=len(xtrain)\n",
    "        \n",
    "    NB = int(np.ceil(N/B)) # Number of minibatches\n",
    "    # T = 20 # Number of epochs\n",
    "    #gamma = .001 # learning rate\n",
    "    #rho = .9 # momentum\n",
    "    #criterion = nn.CrossEntropyLoss()\n",
    "    #optimizer = torch.optim.SGD(net.parameters(), lr = gamma , momentum = rho )\n",
    "    metrics={}\n",
    "    train_loss=0.0\n",
    "    for epoch in range(T):\n",
    "        running_loss = 0.0\n",
    "        idxminibatches = np.random.permutation(NB) # shuffling\n",
    "        running_loss = 0.0\n",
    "        for k in range(NB):\n",
    "            i = idxminibatches[k] # index of minibatch\n",
    "            # Extract i-th minibatch from xtrain and ltrain\n",
    "            idxsmp = np.arange(B*i, min(B*(i+1), N)) # indices of samples for i-th minibatch\n",
    "            inputs,labels = xtrain[idxsmp], ltrain[idxsmp]\n",
    "            \n",
    "            optimizer.zero_grad()                 # Initialize the gradients to zero\n",
    "            outputs = net(inputs)                 # Forward propagation\n",
    "            loss = criterion(outputs , labels )   # Error evaluation\n",
    "            loss.backward()                       # Back propagation\n",
    "            optimizer.step()                      # Parameter update\n",
    "            \n",
    "            # Print averaged loss per minibatch every 100 mini - batches\n",
    "            running_loss += loss [0]\n",
    "            #if k % 500 == 499:\n",
    "            #    print ('[%d, %5d]  loss : %.3f'%( epoch + 1, k + 1, running_loss/500 ))\n",
    "            #    running_loss = 0.0\n",
    "        if validation and epoch%5==4 :\n",
    "            predsCuda = net(cv_xtrain)\n",
    "            cv_acc.append( performance_using_gpu(predsCuda, cv_ltrain) )\n",
    "            cv_losses.append(criterion(predsCuda , cv_ltrain )[0].cpu().data.numpy()[0] )\n",
    "            \n",
    "            predsCuda = net(xtest)\n",
    "            acc = performance_using_gpu(predsCuda, ltest)\n",
    "            test_acc.append( acc )\n",
    "            test_losses.append( criterion(predsCuda , ltest )[0].cpu().data.numpy()[0] )\n",
    "            train_losses.append((running_loss/NB).cpu().data.numpy()[0])\n",
    "            print ('%d  test_acc : %.3f'%( epoch + 1, acc))\n",
    "            \n",
    "    metrics['cv_acc'], metrics['cv_losses'] = cv_acc,cv_losses\n",
    "    metrics['test_acc'], metrics['test_losses'] = test_acc,test_losses\n",
    "    metrics['train_losses'] = train_losses\n",
    "    print('Total time taken in training (secs): ',time.time()-start)\n",
    "    return net, metrics"
   ]
  },
  {
   "cell_type": "markdown",
   "metadata": {},
   "source": [
    "# Baseline (with given hyperparamerters)"
   ]
  },
  {
   "cell_type": "code",
   "execution_count": 16,
   "metadata": {
    "collapsed": true
   },
   "outputs": [
    {
     "name": "stdout",
     "output_type": "stream",
     "text": [
      "5  test_acc : 76.410\n",
      "10  test_acc : 82.070\n",
      "15  test_acc : 84.700\n",
      "20  test_acc : 84.620\n",
      "25  test_acc : 86.060\n",
      "30  test_acc : 86.750\n",
      "35  test_acc : 87.970\n",
      "40  test_acc : 88.390\n",
      "45  test_acc : 88.880\n",
      "50  test_acc : 89.280\n",
      "55  test_acc : 88.810\n",
      "60  test_acc : 89.420\n",
      "65  test_acc : 89.060\n",
      "70  test_acc : 89.580\n",
      "75  test_acc : 89.360\n",
      "80  test_acc : 89.100\n",
      "85  test_acc : 89.930\n",
      "90  test_acc : 89.140\n",
      "95  test_acc : 88.930\n",
      "100  test_acc : 89.060\n",
      "105  test_acc : 89.650\n",
      "110  test_acc : 89.120\n",
      "115  test_acc : 90.040\n",
      "120  test_acc : 89.530\n",
      "125  test_acc : 89.850\n",
      "130  test_acc : 89.990\n",
      "135  test_acc : 89.650\n",
      "140  test_acc : 89.920\n",
      "145  test_acc : 89.570\n",
      "150  test_acc : 89.680\n",
      "155  test_acc : 89.070\n",
      "160  test_acc : 89.360\n",
      "165  test_acc : 89.440\n",
      "170  test_acc : 89.490\n",
      "175  test_acc : 89.490\n",
      "180  test_acc : 89.880\n",
      "185  test_acc : 89.730\n",
      "190  test_acc : 88.990\n",
      "195  test_acc : 89.420\n",
      "200  test_acc : 89.640\n",
      "Total time taken in training (secs):  400.814958096\n",
      "Finished Training\n"
     ]
    }
   ],
   "source": [
    "if torch.cuda.is_available():\n",
    "    net = LeNet().cuda()\n",
    "else:\n",
    "    net = LeNet()\n",
    "    \n",
    "B = 100          # Minibacth size\n",
    "gamma = .001     # learning rate\n",
    "rho = .9         # momentum\n",
    "T=200            # epochs\n",
    "criterion = nn.CrossEntropyLoss()\n",
    "optimizer = torch.optim.SGD(net.parameters(), lr = gamma , momentum = rho )\n",
    "\n",
    "net, metrics = train_net(net, xtrain, ltrain, T, validation=True)\n",
    "print('Finished Training')"
   ]
  },
  {
   "cell_type": "markdown",
   "metadata": {},
   "source": [
    "# Plot training metrics"
   ]
  },
  {
   "cell_type": "code",
   "execution_count": 20,
   "metadata": {},
   "outputs": [
    {
     "data": {
      "image/png": "[encoded data removed]",
      "text/plain": [
       "<Figure size 576x576 with 5 Axes>"
      ]
     },
     "metadata": {},
     "output_type": "display_data"
    }
   ],
   "source": [
    "def plot_metrics(metrics):\n",
    "    xlimits=range(0,T,5)\n",
    "    plt.figure(figsize=(8,8))\n",
    "    i=1\n",
    "    metrics_keys = ['cv_acc','cv_losses','train_losses','test_acc','test_losses']\n",
    "    titles = ['validation accuracy', 'validation loss', 'training loss',\\\n",
    "             'test accuracy', 'test losses']\n",
    "    for metric,title in zip(metrics_keys, titles):\n",
    "        plt.subplot(2,3,i)\n",
    "        plt.plot(xlimits, metrics[metric])\n",
    "        plt.title(title)\n",
    "        i+=1\n",
    "    plt.subplots_adjust(right=2)\n",
    "    fig=plt.gcf()               # store the plot to store it later\n",
    "    plt.show()\n",
    "    return fig\n",
    "        \n",
    "fig=plot_metrics(metrics)"
   ]
  },
  {
   "cell_type": "code",
   "execution_count": 21,
   "metadata": {},
   "outputs": [],
   "source": [
    "t=str(time.strftime(\"%c\"))\n",
    "fig.savefig('plots/'+ 'baseline result __ '+ t +'.jpg', bbox_inches='tight')"
   ]
  },
  {
   "cell_type": "markdown",
   "metadata": {},
   "source": [
    "# Test metrics"
   ]
  },
  {
   "cell_type": "code",
   "execution_count": 22,
   "metadata": {},
   "outputs": [
    {
     "name": "stdout",
     "output_type": "stream",
     "text": [
      "89.64\n",
      "89.6399974822998\n"
     ]
    }
   ],
   "source": [
    "predsCuda = net(xtest)\n",
    "if torch.cuda.is_available():\n",
    "    pred = predsCuda.cpu()\n",
    "    labels = ltest.cpu().data.numpy()\n",
    "print(performance(pred, labels))\n",
    "print(performance_using_gpu(predsCuda, ltest))"
   ]
  },
  {
   "cell_type": "markdown",
   "metadata": {},
   "source": [
    "# Experiment hyperparameters and optimizations"
   ]
  },
  {
   "cell_type": "code",
   "execution_count": 42,
   "metadata": {
    "scrolled": true
   },
   "outputs": [
    {
     "name": "stdout",
     "output_type": "stream",
     "text": [
      "5  test_acc : 68.820\n",
      "10  test_acc : 74.180\n",
      "15  test_acc : 77.250\n",
      "20  test_acc : 78.850\n",
      "25  test_acc : 80.140\n",
      "30  test_acc : 81.880\n",
      "35  test_acc : 83.300\n",
      "40  test_acc : 83.440\n",
      "45  test_acc : 84.640\n",
      "50  test_acc : 84.420\n",
      "55  test_acc : 85.290\n",
      "60  test_acc : 85.980\n",
      "65  test_acc : 85.830\n",
      "70  test_acc : 86.350\n",
      "75  test_acc : 86.470\n",
      "80  test_acc : 86.980\n",
      "85  test_acc : 87.190\n",
      "90  test_acc : 87.210\n",
      "95  test_acc : 87.330\n",
      "100  test_acc : 87.440\n",
      "105  test_acc : 87.570\n",
      "110  test_acc : 87.840\n",
      "115  test_acc : 87.800\n",
      "120  test_acc : 87.710\n",
      "125  test_acc : 87.830\n",
      "130  test_acc : 87.750\n",
      "135  test_acc : 88.360\n",
      "140  test_acc : 88.360\n",
      "145  test_acc : 88.700\n",
      "150  test_acc : 88.760\n",
      "155  test_acc : 88.410\n",
      "160  test_acc : 88.590\n",
      "165  test_acc : 88.910\n",
      "170  test_acc : 88.560\n",
      "175  test_acc : 88.850\n",
      "180  test_acc : 88.600\n",
      "185  test_acc : 88.850\n",
      "190  test_acc : 88.890\n",
      "195  test_acc : 89.260\n",
      "200  test_acc : 88.860\n",
      "205  test_acc : 89.160\n",
      "210  test_acc : 89.340\n",
      "215  test_acc : 89.240\n",
      "220  test_acc : 89.550\n",
      "225  test_acc : 89.390\n",
      "230  test_acc : 89.560\n",
      "235  test_acc : 89.240\n",
      "240  test_acc : 89.300\n",
      "245  test_acc : 89.200\n",
      "250  test_acc : 89.370\n",
      "255  test_acc : 89.350\n",
      "260  test_acc : 89.260\n",
      "265  test_acc : 88.970\n",
      "270  test_acc : 89.600\n",
      "275  test_acc : 89.310\n",
      "280  test_acc : 89.400\n",
      "285  test_acc : 89.310\n",
      "290  test_acc : 89.450\n",
      "295  test_acc : 89.050\n",
      "300  test_acc : 89.060\n",
      "305  test_acc : 89.280\n",
      "310  test_acc : 88.830\n",
      "315  test_acc : 89.240\n",
      "320  test_acc : 89.530\n",
      "325  test_acc : 89.210\n",
      "330  test_acc : 89.650\n",
      "335  test_acc : 89.290\n",
      "340  test_acc : 89.270\n",
      "345  test_acc : 89.590\n",
      "350  test_acc : 89.140\n",
      "355  test_acc : 89.460\n",
      "360  test_acc : 89.420\n",
      "365  test_acc : 89.460\n",
      "370  test_acc : 89.210\n",
      "375  test_acc : 89.490\n",
      "380  test_acc : 89.390\n",
      "385  test_acc : 89.390\n",
      "390  test_acc : 89.340\n",
      "395  test_acc : 89.450\n",
      "400  test_acc : 88.980\n",
      "Total time taken in training (secs):  775.068533182\n",
      "Finished Training\n"
     ]
    }
   ],
   "source": [
    "if torch.cuda.is_available():\n",
    "    net = LeNet().cuda()\n",
    "else:\n",
    "    net = LeNet()\n",
    "    \n",
    "B = 100          # Minibacth size\n",
    "gamma = .001     # learning rate\n",
    "rho = 0.9         # momentum\n",
    "T=200            # epochs\n",
    "criterion = nn.CrossEntropyLoss()\n",
    "optimizer = torch.optim.SGD(net.parameters(), lr = gamma , momentum = rho )\n",
    "\n",
    "net, metrics = train_net(net, xtrain, ltrain, T, validation=True)\n",
    "print('Finished Training')"
   ]
  },
  {
   "cell_type": "code",
   "execution_count": 44,
   "metadata": {},
   "outputs": [
    {
     "data": {
      "image/png": "[encoded data removed]",
      "text/plain": [
       "<Figure size 576x576 with 5 Axes>"
      ]
     },
     "metadata": {},
     "output_type": "display_data"
    }
   ],
   "source": [
    "fig=plot_metrics(metrics)\n",
    "t=str(time.strftime(\"%c\"))\n",
    "fig.savefig('plots/'+ 'momentum = 0,6 T=400 __ '+ t +'.jpg', bbox_inches='tight')"
   ]
  },
  {
   "cell_type": "code",
   "execution_count": 28,
   "metadata": {},
   "outputs": [
    {
     "name": "stdout",
     "output_type": "stream",
     "text": [
      "60000\n"
     ]
    }
   ],
   "source": [
    "print(len(ltrain))"
   ]
  }
 ],
 "metadata": {
  "kernelspec": {
   "display_name": "Python 2",
   "language": "python",
   "name": "python2"
  },
  "language_info": {
   "codemirror_mode": {
    "name": "ipython",
    "version": 2
   },
   "file_extension": ".py",
   "mimetype": "text/x-python",
   "name": "python",
   "nbconvert_exporter": "python",
   "pygments_lexer": "ipython2",
   "version": "2.7.14"
  }
 },
 "nbformat": 4,
 "nbformat_minor": 2
}
